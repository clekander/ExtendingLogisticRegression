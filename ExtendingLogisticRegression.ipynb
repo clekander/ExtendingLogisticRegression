{
 "cells": [
  {
   "cell_type": "markdown",
   "id": "d0d336ca",
   "metadata": {},
   "source": [
    "# Lab Assignment 3: Extending Logistic Regression\n",
    "\n",
    "Gabs DiLiegro, London Kasper, Carys LeKander\n",
    "\n",
    "# 1. Preparation and Overview\n",
    "\n",
    "\n",
    "Dataset: https://www.kaggle.com/datasets/dansbecker/melbourne-housing-snapshot\n",
    "\n",
    "## Define and Prepare Classs Variables"
   ]
  },
  {
   "cell_type": "code",
   "execution_count": 6,
   "id": "ab974290",
   "metadata": {},
   "outputs": [],
   "source": [
    "import pandas as pd\n",
    "from sklearn.preprocessing import LabelBinarizer\n",
    "\n",
    "df = pd.read_csv('melb_data.csv')"
   ]
  },
  {
   "cell_type": "code",
   "execution_count": 7,
   "id": "9025b1d0",
   "metadata": {},
   "outputs": [
    {
     "name": "stdout",
     "output_type": "stream",
     "text": [
      "<class 'pandas.core.frame.DataFrame'>\n",
      "RangeIndex: 13580 entries, 0 to 13579\n",
      "Data columns (total 21 columns):\n",
      " #   Column         Non-Null Count  Dtype  \n",
      "---  ------         --------------  -----  \n",
      " 0   Suburb         13580 non-null  object \n",
      " 1   Address        13580 non-null  object \n",
      " 2   Rooms          13580 non-null  int64  \n",
      " 3   Type           13580 non-null  object \n",
      " 4   Price          13580 non-null  float64\n",
      " 5   Method         13580 non-null  object \n",
      " 6   SellerG        13580 non-null  object \n",
      " 7   Date           13580 non-null  object \n",
      " 8   Distance       13580 non-null  float64\n",
      " 9   Postcode       13580 non-null  float64\n",
      " 10  Bedroom2       13580 non-null  float64\n",
      " 11  Bathroom       13580 non-null  float64\n",
      " 12  Car            13518 non-null  float64\n",
      " 13  Landsize       13580 non-null  float64\n",
      " 14  BuildingArea   7130 non-null   float64\n",
      " 15  YearBuilt      8205 non-null   float64\n",
      " 16  CouncilArea    12211 non-null  object \n",
      " 17  Lattitude      13580 non-null  float64\n",
      " 18  Longtitude     13580 non-null  float64\n",
      " 19  Regionname     13580 non-null  object \n",
      " 20  Propertycount  13580 non-null  float64\n",
      "dtypes: float64(12), int64(1), object(8)\n",
      "memory usage: 2.2+ MB\n"
     ]
    }
   ],
   "source": [
    "df.info()"
   ]
  },
  {
   "cell_type": "markdown",
   "id": "cf288120",
   "metadata": {},
   "source": [
    "In Assingment 1, we explained why we decided to remove certain attributes. We have listed descriptions of the attributes used and removed below.\n",
    "\n",
    "### Attributes used :\n",
    "- Suburb: the name of the suburb that each property is in. (String object)\n",
    "- Rooms: the total number of rooms for each property. (int64)\n",
    "- Type: the type of property. ( h = house/cottage/villa/seni/terrace; u = unit, duplex; t = townhouse)\n",
    "- Price: listing price in Australian dollars (float64)\n",
    "- Distance: the distance from the property to the Melbourne central business district AKA CBD (float64)\n",
    "- Postcode: zipcode the property falls within (float64) \n",
    "- Bathroom: the number of bathrooms (float64)\n",
    "- Car: the number of parking spots (float64)\n",
    "- Landsize: the size of the land in meters (float64)\n",
    "- Regionname: general region of the property (String object)\n",
    "\n",
    "### Attributes removed and why:\n",
    "- Address: the address of the property (String object)\n",
    "- Method: way the property was listed\n",
    "     - We aren't considering data about how the house was sold, just the features of the house itself, which is why we also excluded SellerG and Date\n",
    "- SellerG: name of the real estate agent listing the property (String object)\n",
    "- Date: sale date in mm/dd/yyyy (float64)\n",
    "- Bedroom2: the number of bedrooms (float64: scraped from a different source)\n",
    "    - Rooms and Bedroom2 contain the same information collected from different sources. We have seen that these features are very strongly correlated and have very similar data, so we are excluding Bedroom2 for simplicity.\n",
    "- Propertycount: number of properties in the same suburb (float64)\n",
    "- BuildingArea: area of the building in meters\n",
    "    - Since ~47% of the dataset is missing this we decided to remove it\n",
    "- YearBuilt: year the house was built (float64)\n",
    "    - Although we think YearBuilt could have useful infomation for our model, ~40% of the data is missing so we have decided to remove it\n",
    "- CouncilArea: the governing council for the area (String object)\n",
    "    - The CouncilArea stopped being recorded after a certain date. Therefore we decided to remove this attribute as we did not want it to skew our set\n",
    "- Latitude: lattitude of property (float64)\n",
    "- Longitude: longtitude of property (float64)\n",
    "    - Niether Longitude or Latitude supply us with more useful information than other data we have collected about the area of the houses"
   ]
  },
  {
   "cell_type": "code",
   "execution_count": 8,
   "id": "f36c8515",
   "metadata": {},
   "outputs": [],
   "source": [
    "# removing irrelevant columns \n",
    "df = df.drop(['Address','Method','SellerG', 'Date','Bedroom2', 'Propertycount','BuildingArea', 'YearBuilt','CouncilArea','Lattitude','Longtitude'], axis=1)"
   ]
  },
  {
   "cell_type": "markdown",
   "id": "78bf4e36",
   "metadata": {},
   "source": [
    "Our only column remaining with missing data is the car spots. There are only 62 missing data points of 13,580."
   ]
  },
  {
   "cell_type": "code",
   "execution_count": 9,
   "id": "93b71982",
   "metadata": {},
   "outputs": [
    {
     "data": {
      "text/plain": [
       "count    13518.000000\n",
       "mean         1.610075\n",
       "std          0.962634\n",
       "min          0.000000\n",
       "25%          1.000000\n",
       "50%          2.000000\n",
       "75%          2.000000\n",
       "max         10.000000\n",
       "Name: Car, dtype: float64"
      ]
     },
     "execution_count": 9,
     "metadata": {},
     "output_type": "execute_result"
    }
   ],
   "source": [
    "df.Car.describe()"
   ]
  },
  {
   "cell_type": "markdown",
   "id": "c9e69683",
   "metadata": {},
   "source": [
    "Since there are so few missing points and the interquartile range is small, we used the median (2 spots) to fill the missing values. "
   ]
  },
  {
   "cell_type": "code",
   "execution_count": 10,
   "id": "63a75391",
   "metadata": {},
   "outputs": [
    {
     "name": "stdout",
     "output_type": "stream",
     "text": [
      "<class 'pandas.core.frame.DataFrame'>\n",
      "RangeIndex: 13580 entries, 0 to 13579\n",
      "Data columns (total 10 columns):\n",
      " #   Column      Non-Null Count  Dtype  \n",
      "---  ------      --------------  -----  \n",
      " 0   Suburb      13580 non-null  object \n",
      " 1   Rooms       13580 non-null  int64  \n",
      " 2   Type        13580 non-null  object \n",
      " 3   Price       13580 non-null  float64\n",
      " 4   Distance    13580 non-null  float64\n",
      " 5   Postcode    13580 non-null  float64\n",
      " 6   Bathroom    13580 non-null  float64\n",
      " 7   Car         13580 non-null  float64\n",
      " 8   Landsize    13580 non-null  float64\n",
      " 9   Regionname  13580 non-null  object \n",
      "dtypes: float64(6), int64(1), object(3)\n",
      "memory usage: 1.0+ MB\n"
     ]
    }
   ],
   "source": [
    "#fill in missing numeric values with median for Car\n",
    "df.Car = df.Car.fillna(df.Car.median())\n",
    "\n",
    "df.info()"
   ]
  },
  {
   "cell_type": "markdown",
   "id": "098d5131",
   "metadata": {},
   "source": [
    "Next, we want to normalize our numeric values."
   ]
  },
  {
   "cell_type": "code",
   "execution_count": 11,
   "id": "ad762a30",
   "metadata": {},
   "outputs": [],
   "source": [
    "from sklearn.preprocessing import MinMaxScaler\n",
    "\n",
    "cols_to_norm = ['Rooms','Distance','Bathroom','Car','Landsize']\n",
    "df[cols_to_norm] = MinMaxScaler().fit_transform(df[cols_to_norm])"
   ]
  },
  {
   "cell_type": "code",
   "execution_count": 12,
   "id": "0df11153",
   "metadata": {},
   "outputs": [
    {
     "data": {
      "text/html": [
       "<div>\n",
       "<style scoped>\n",
       "    .dataframe tbody tr th:only-of-type {\n",
       "        vertical-align: middle;\n",
       "    }\n",
       "\n",
       "    .dataframe tbody tr th {\n",
       "        vertical-align: top;\n",
       "    }\n",
       "\n",
       "    .dataframe thead th {\n",
       "        text-align: right;\n",
       "    }\n",
       "</style>\n",
       "<table border=\"1\" class=\"dataframe\">\n",
       "  <thead>\n",
       "    <tr style=\"text-align: right;\">\n",
       "      <th></th>\n",
       "      <th>Suburb</th>\n",
       "      <th>Rooms</th>\n",
       "      <th>Type</th>\n",
       "      <th>Price</th>\n",
       "      <th>Distance</th>\n",
       "      <th>Postcode</th>\n",
       "      <th>Bathroom</th>\n",
       "      <th>Car</th>\n",
       "      <th>Landsize</th>\n",
       "      <th>Regionname</th>\n",
       "    </tr>\n",
       "  </thead>\n",
       "  <tbody>\n",
       "    <tr>\n",
       "      <th>0</th>\n",
       "      <td>Abbotsford</td>\n",
       "      <td>0.111111</td>\n",
       "      <td>h</td>\n",
       "      <td>1480000.0</td>\n",
       "      <td>0.051975</td>\n",
       "      <td>3067.0</td>\n",
       "      <td>0.125</td>\n",
       "      <td>0.1</td>\n",
       "      <td>0.000466</td>\n",
       "      <td>Northern Metropolitan</td>\n",
       "    </tr>\n",
       "    <tr>\n",
       "      <th>1</th>\n",
       "      <td>Abbotsford</td>\n",
       "      <td>0.111111</td>\n",
       "      <td>h</td>\n",
       "      <td>1035000.0</td>\n",
       "      <td>0.051975</td>\n",
       "      <td>3067.0</td>\n",
       "      <td>0.125</td>\n",
       "      <td>0.0</td>\n",
       "      <td>0.000360</td>\n",
       "      <td>Northern Metropolitan</td>\n",
       "    </tr>\n",
       "    <tr>\n",
       "      <th>2</th>\n",
       "      <td>Abbotsford</td>\n",
       "      <td>0.222222</td>\n",
       "      <td>h</td>\n",
       "      <td>1465000.0</td>\n",
       "      <td>0.051975</td>\n",
       "      <td>3067.0</td>\n",
       "      <td>0.250</td>\n",
       "      <td>0.0</td>\n",
       "      <td>0.000309</td>\n",
       "      <td>Northern Metropolitan</td>\n",
       "    </tr>\n",
       "    <tr>\n",
       "      <th>3</th>\n",
       "      <td>Abbotsford</td>\n",
       "      <td>0.222222</td>\n",
       "      <td>h</td>\n",
       "      <td>850000.0</td>\n",
       "      <td>0.051975</td>\n",
       "      <td>3067.0</td>\n",
       "      <td>0.250</td>\n",
       "      <td>0.1</td>\n",
       "      <td>0.000217</td>\n",
       "      <td>Northern Metropolitan</td>\n",
       "    </tr>\n",
       "    <tr>\n",
       "      <th>4</th>\n",
       "      <td>Abbotsford</td>\n",
       "      <td>0.333333</td>\n",
       "      <td>h</td>\n",
       "      <td>1600000.0</td>\n",
       "      <td>0.051975</td>\n",
       "      <td>3067.0</td>\n",
       "      <td>0.125</td>\n",
       "      <td>0.2</td>\n",
       "      <td>0.000277</td>\n",
       "      <td>Northern Metropolitan</td>\n",
       "    </tr>\n",
       "  </tbody>\n",
       "</table>\n",
       "</div>"
      ],
      "text/plain": [
       "       Suburb     Rooms Type      Price  Distance  Postcode  Bathroom  Car  \\\n",
       "0  Abbotsford  0.111111    h  1480000.0  0.051975    3067.0     0.125  0.1   \n",
       "1  Abbotsford  0.111111    h  1035000.0  0.051975    3067.0     0.125  0.0   \n",
       "2  Abbotsford  0.222222    h  1465000.0  0.051975    3067.0     0.250  0.0   \n",
       "3  Abbotsford  0.222222    h   850000.0  0.051975    3067.0     0.250  0.1   \n",
       "4  Abbotsford  0.333333    h  1600000.0  0.051975    3067.0     0.125  0.2   \n",
       "\n",
       "   Landsize             Regionname  \n",
       "0  0.000466  Northern Metropolitan  \n",
       "1  0.000360  Northern Metropolitan  \n",
       "2  0.000309  Northern Metropolitan  \n",
       "3  0.000217  Northern Metropolitan  \n",
       "4  0.000277  Northern Metropolitan  "
      ]
     },
     "execution_count": 12,
     "metadata": {},
     "output_type": "execute_result"
    }
   ],
   "source": [
    "df.head()"
   ]
  },
  {
   "cell_type": "markdown",
   "id": "6ef42d3e",
   "metadata": {},
   "source": [
    "Then, we one-hot encode our categorical data.\n",
    "\n",
    "Type has 3 unqiue values ('h' for house, 'u' for unit, and 't' for townhouse) and Regionname has 8 unique regions. We one-hot encode those below and show the new variables we created."
   ]
  },
  {
   "cell_type": "code",
   "execution_count": 13,
   "id": "a7a79f59",
   "metadata": {},
   "outputs": [
    {
     "name": "stdout",
     "output_type": "stream",
     "text": [
      "<class 'pandas.core.frame.DataFrame'>\n",
      "RangeIndex: 13580 entries, 0 to 13579\n",
      "Data columns (total 19 columns):\n",
      " #   Column                                 Non-Null Count  Dtype  \n",
      "---  ------                                 --------------  -----  \n",
      " 0   Suburb                                 13580 non-null  object \n",
      " 1   Rooms                                  13580 non-null  float64\n",
      " 2   Price                                  13580 non-null  float64\n",
      " 3   Distance                               13580 non-null  float64\n",
      " 4   Postcode                               13580 non-null  float64\n",
      " 5   Bathroom                               13580 non-null  float64\n",
      " 6   Car                                    13580 non-null  float64\n",
      " 7   Landsize                               13580 non-null  float64\n",
      " 8   Type_h                                 13580 non-null  uint8  \n",
      " 9   Type_t                                 13580 non-null  uint8  \n",
      " 10  Type_u                                 13580 non-null  uint8  \n",
      " 11  Regionname_Eastern Metropolitan        13580 non-null  uint8  \n",
      " 12  Regionname_Eastern Victoria            13580 non-null  uint8  \n",
      " 13  Regionname_Northern Metropolitan       13580 non-null  uint8  \n",
      " 14  Regionname_Northern Victoria           13580 non-null  uint8  \n",
      " 15  Regionname_South-Eastern Metropolitan  13580 non-null  uint8  \n",
      " 16  Regionname_Southern Metropolitan       13580 non-null  uint8  \n",
      " 17  Regionname_Western Metropolitan        13580 non-null  uint8  \n",
      " 18  Regionname_Western Victoria            13580 non-null  uint8  \n",
      "dtypes: float64(7), object(1), uint8(11)\n",
      "memory usage: 994.8+ KB\n"
     ]
    }
   ],
   "source": [
    "df = pd.concat([df,pd.get_dummies(df['Type'], prefix='Type')],axis=1)\n",
    "df.drop(['Type'],axis=1, inplace=True)\n",
    "\n",
    "df = pd.concat([df,pd.get_dummies(df['Regionname'], prefix='Regionname')],axis=1)\n",
    "df.drop(['Regionname'],axis=1, inplace=True)\n",
    "\n",
    "df.info()"
   ]
  },
  {
   "cell_type": "markdown",
   "id": "91dad690",
   "metadata": {},
   "source": [
    "Postcode and Suburb have way more unique values. We one-hot encode them below."
   ]
  },
  {
   "cell_type": "code",
   "execution_count": 14,
   "id": "53fb12f5",
   "metadata": {},
   "outputs": [
    {
     "name": "stdout",
     "output_type": "stream",
     "text": [
      "<class 'pandas.core.frame.DataFrame'>\n",
      "RangeIndex: 13580 entries, 0 to 13579\n",
      "Columns: 529 entries, Rooms to Suburb_Yarraville\n",
      "dtypes: float64(6), uint8(523)\n",
      "memory usage: 7.4 MB\n"
     ]
    }
   ],
   "source": [
    "df = pd.concat([df,pd.get_dummies(df['Postcode'], prefix='Postcode')],axis=1)\n",
    "df.drop(['Postcode'],axis=1, inplace=True)\n",
    "\n",
    "df = pd.concat([df,pd.get_dummies(df['Suburb'], prefix='Suburb')],axis=1)\n",
    "df.drop(['Suburb'],axis=1, inplace=True)\n",
    "\n",
    "df.info()"
   ]
  },
  {
   "cell_type": "markdown",
   "id": "ccd9012a",
   "metadata": {},
   "source": [
    "# 2. Modeling"
   ]
  },
  {
   "cell_type": "markdown",
   "id": "0d26a318",
   "metadata": {},
   "source": [
    "# 3. Deployment"
   ]
  },
  {
   "cell_type": "markdown",
   "id": "02799f81",
   "metadata": {},
   "source": [
    "# 4. Exceptional Work"
   ]
  }
 ],
 "metadata": {
  "kernelspec": {
   "display_name": "Python 3 (ipykernel)",
   "language": "python",
   "name": "python3"
  },
  "language_info": {
   "codemirror_mode": {
    "name": "ipython",
    "version": 3
   },
   "file_extension": ".py",
   "mimetype": "text/x-python",
   "name": "python",
   "nbconvert_exporter": "python",
   "pygments_lexer": "ipython3",
   "version": "3.9.12"
  }
 },
 "nbformat": 4,
 "nbformat_minor": 5
}
